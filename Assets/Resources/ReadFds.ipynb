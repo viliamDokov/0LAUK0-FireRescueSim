{
 "cells": [
  {
   "cell_type": "code",
   "execution_count": 1,
   "metadata": {},
   "outputs": [],
   "source": [
    "# Based on https://firedynamics.github.io/LectureFireSimulation/content/tools/03_analysis/02_fdsreader.html"
   ]
  },
  {
   "cell_type": "code",
   "execution_count": 2,
   "metadata": {},
   "outputs": [],
   "source": [
    "# use ths command to install  : !python.exe -m pip install fdsreader==1.10.2"
   ]
  },
  {
   "cell_type": "code",
   "execution_count": 3,
   "metadata": {},
   "outputs": [],
   "source": [
    "import matplotlib.pyplot as plt\n",
    "import fdsreader as fds"
   ]
  },
  {
   "cell_type": "code",
   "execution_count": 4,
   "metadata": {},
   "outputs": [],
   "source": [
    "# define the path to the data\n",
    "path_to_data = 'house2'\n",
    "sim = fds.Simulation(path_to_data)"
   ]
  },
  {
   "cell_type": "code",
   "execution_count": 5,
   "metadata": {},
   "outputs": [
    {
     "name": "stdout",
     "output_type": "stream",
     "text": [
      "Slice Type [2D/3D]: 2D\n",
      "  Quantity: TEMPERATURE\n",
      "  Physical Extent: Extent([0.00, 43.00] x [0.00, 36.00] x [1.00, 1.00])\n",
      "  Orientation [1/2/3]: 3\n",
      "\n"
     ]
    }
   ],
   "source": [
    "# print available slice data\n",
    "for slice in sim.slices:\n",
    "    print(f\"Slice Type [2D/3D]: {slice.type}\\n  Quantity: {slice.quantity.name}\\n\", \n",
    "          f\" Physical Extent: {slice.extent}\\n  Orientation [1/2/3]: {slice.orientation}\\n\")"
   ]
  },
  {
   "cell_type": "code",
   "execution_count": 6,
   "metadata": {},
   "outputs": [
    {
     "name": "stdout",
     "output_type": "stream",
     "text": [
      "SliceCollection([Slice([2D] quantity=Quantity('TEMPERATURE'), cell_centered=False, extent=Extent([0.00, 43.00] x [0.00, 36.00] x [1.00, 1.00]), extent_dirs=('x', 'y'), orientation=3)])\n"
     ]
    }
   ],
   "source": [
    "# Get the temperature slice\n",
    "w_slice = sim.slices.filter_by_quantity(\"TEMPERATURE\")\n",
    "print(w_slice)"
   ]
  },
  {
   "cell_type": "code",
   "execution_count": 7,
   "metadata": {},
   "outputs": [
    {
     "name": "stdout",
     "output_type": "stream",
     "text": [
      "Slice([2D] quantity=Quantity('TEMPERATURE'), cell_centered=False, extent=Extent([0.00, 43.00] x [0.00, 36.00] x [1.00, 1.00]), extent_dirs=('x', 'y'), orientation=3)\n"
     ]
    }
   ],
   "source": [
    "# choose the temperature slice in y-direction\n",
    "slc = w_slice.get_nearest(x=0,y=0)\n",
    "print(slc)"
   ]
  },
  {
   "cell_type": "code",
   "execution_count": 8,
   "metadata": {},
   "outputs": [],
   "source": [
    "t0=slc.get_nearest_timestep(0)"
   ]
  },
  {
   "cell_type": "code",
   "execution_count": 9,
   "metadata": {},
   "outputs": [
    {
     "data": {
      "text/plain": [
       "<matplotlib.image.AxesImage at 0x1eac55cba90>"
      ]
     },
     "execution_count": 9,
     "metadata": {},
     "output_type": "execute_result"
    },
    {
     "data": {
      "image/png": "[encoded data removed]",
      "text/plain": [
       "<Figure size 640x480 with 1 Axes>"
      ]
     },
     "metadata": {},
     "output_type": "display_data"
    }
   ],
   "source": [
    "plt.imshow(slc[0].data[slc.get_nearest_timestep(3)])"
   ]
  },
  {
   "cell_type": "code",
   "execution_count": 10,
   "metadata": {},
   "outputs": [
    {
     "data": {
      "text/plain": [
       "(87, 73)"
      ]
     },
     "execution_count": 10,
     "metadata": {},
     "output_type": "execute_result"
    }
   ],
   "source": [
    "# size of array is 15 x 15, ie one point every 0.5m \n",
    "slc[0].data[slc.get_nearest_timestep(3)].shape"
   ]
  },
  {
   "cell_type": "code",
   "execution_count": 11,
   "metadata": {},
   "outputs": [
    {
     "data": {
      "text/plain": [
       "numpy.ndarray"
      ]
     },
     "execution_count": 11,
     "metadata": {},
     "output_type": "execute_result"
    }
   ],
   "source": [
    "type(slc[0].data[slc.get_nearest_timestep(3)])"
   ]
  },
  {
   "cell_type": "code",
   "execution_count": 12,
   "metadata": {},
   "outputs": [
    {
     "name": "stdout",
     "output_type": "stream",
     "text": [
      "(997, 87, 73)\n",
      "997\n",
      "87\n",
      "73\n"
     ]
    }
   ],
   "source": [
    "print(slc[0].data.shape)\n",
    "\n",
    "f = open(path_to_data + \".txt\", \"a\")\n",
    "for i in range(3):\n",
    "    f.write(slc[0].data.shape[i].__str__() + \", \")\n",
    "    print(slc[0].data.shape[i])\n",
    "f.write(\"\\n\")\n",
    "f.write(int(list(slice.extent)[1][1]).__str__() + \", \" + int(list(slice.extent)[2][1]).__str__() + \"\\n\")\n",
    "\n",
    "for i in range(slc.times.shape[0]):\n",
    "    f.write(slc.times[i].__str__() + \", \")\n",
    "f.write(\"\\n\")\n",
    "for i in range(slc[0].data.shape[0]):\n",
    "    snapshot = slc[0].data[slc.get_nearest_timestep(slc.times[i])].flatten()\n",
    "    for j in range(snapshot.shape[0]):\n",
    "        f.write(snapshot[j].__str__())\n",
    "        f.write(\", \")\n",
    "    f.write(\"\\n\")\n",
    "f.close()"
   ]
  }
 ],
 "metadata": {
  "kernelspec": {
   "display_name": "Python 3",
   "language": "python",
   "name": "python3"
  },
  "language_info": {
   "codemirror_mode": {
    "name": "ipython",
    "version": 3
   },
   "file_extension": ".py",
   "mimetype": "text/x-python",
   "name": "python",
   "nbconvert_exporter": "python",
   "pygments_lexer": "ipython3",
   "version": "3.11.0"
  }
 },
 "nbformat": 4,
 "nbformat_minor": 2
}
